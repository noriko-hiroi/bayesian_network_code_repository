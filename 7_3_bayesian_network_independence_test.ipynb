{
  "nbformat": 4,
  "nbformat_minor": 0,
  "metadata": {
    "kernelspec": {
      "name": "python3",
      "display_name": "Python 3"
    },
    "colab": {
      "name": "7_3_bayesian_network_independence_test.ipynb",
      "provenance": [],
      "collapsed_sections": [],
      "include_colab_link": true
    }
  },
  "cells": [
    {
      "cell_type": "markdown",
      "metadata": {
        "id": "view-in-github",
        "colab_type": "text"
      },
      "source": [
        "<a href=\"https://colab.research.google.com/github/noriko-hiroi/noriko-hiroi/blob/main/7_3_bayesian_network_independence_test.ipynb\" target=\"_parent\"><img src=\"https://colab.research.google.com/assets/colab-badge.svg\" alt=\"Open In Colab\"/></a>"
      ]
    },
    {
      "cell_type": "markdown",
      "metadata": {
        "id": "aoxI3DOK9vm2"
      },
      "source": [
        "# 7.3 独立性の検定\n",
        "\n",
        "本ファイルは、7.3節の実装です。\n",
        "\n",
        "データに対して独立性のカイ二乗検定を実施ます"
      ]
    },
    {
      "cell_type": "markdown",
      "metadata": {
        "id": "2XdIDbdlejUk"
      },
      "source": [
        "## プログラム実行前の設定など"
      ]
    },
    {
      "cell_type": "code",
      "metadata": {
        "id": "XZFKJwcu-_Oj"
      },
      "source": [
        "# 乱数のシードを設定\n",
        "import random\n",
        "import numpy as np\n",
        "\n",
        "np.random.seed(1234)\n",
        "random.seed(1234)\n"
      ],
      "execution_count": null,
      "outputs": []
    },
    {
      "cell_type": "code",
      "metadata": {
        "id": "hx1idArc_F15"
      },
      "source": [
        "# 使用するパッケージ（ライブラリと関数）を定義\n",
        "from numpy.random import *\n",
        "import pandas as pd\n"
      ],
      "execution_count": null,
      "outputs": []
    },
    {
      "cell_type": "markdown",
      "metadata": {
        "id": "AWqP6yeQlI_t"
      },
      "source": [
        "## データの作成"
      ]
    },
    {
      "cell_type": "code",
      "metadata": {
        "id": "DpnGB2KZ_L8x",
        "colab": {
          "base_uri": "https://localhost:8080/",
          "height": 206
        },
        "outputId": "d8381992-5b8e-43b6-9f8c-236b3a31f32e"
      },
      "source": [
        "# データ数\n",
        "num_data = 100\n",
        "\n",
        "# x1：0か1の値をnum_data個生成、0の確率は0.6、1の確率は0.4\n",
        "x1 = np.random.choice([0, 1], num_data, p=[0.6, 0.4])\n",
        "\n",
        "# x2：0か1の値をnum_data個生成、0の確率は0.4、1の確率は0.6\n",
        "x2 = np.random.choice([0, 1], num_data, p=[0.4, 0.6])\n",
        "\n",
        "# x2はx1と因果関係にあるとする\n",
        "x2 = x2*x1\n",
        "\n",
        "# 2変数で表にする\n",
        "df = pd.DataFrame({'x1': x1,\n",
        "                   'x2': x2,\n",
        "                   })\n",
        "\n",
        "df.head()  # 先頭を表示\n"
      ],
      "execution_count": null,
      "outputs": [
        {
          "output_type": "execute_result",
          "data": {
            "text/html": [
              "<div>\n",
              "<style scoped>\n",
              "    .dataframe tbody tr th:only-of-type {\n",
              "        vertical-align: middle;\n",
              "    }\n",
              "\n",
              "    .dataframe tbody tr th {\n",
              "        vertical-align: top;\n",
              "    }\n",
              "\n",
              "    .dataframe thead th {\n",
              "        text-align: right;\n",
              "    }\n",
              "</style>\n",
              "<table border=\"1\" class=\"dataframe\">\n",
              "  <thead>\n",
              "    <tr style=\"text-align: right;\">\n",
              "      <th></th>\n",
              "      <th>x1</th>\n",
              "      <th>x2</th>\n",
              "    </tr>\n",
              "  </thead>\n",
              "  <tbody>\n",
              "    <tr>\n",
              "      <th>0</th>\n",
              "      <td>0</td>\n",
              "      <td>0</td>\n",
              "    </tr>\n",
              "    <tr>\n",
              "      <th>1</th>\n",
              "      <td>1</td>\n",
              "      <td>1</td>\n",
              "    </tr>\n",
              "    <tr>\n",
              "      <th>2</th>\n",
              "      <td>0</td>\n",
              "      <td>0</td>\n",
              "    </tr>\n",
              "    <tr>\n",
              "      <th>3</th>\n",
              "      <td>1</td>\n",
              "      <td>1</td>\n",
              "    </tr>\n",
              "    <tr>\n",
              "      <th>4</th>\n",
              "      <td>1</td>\n",
              "      <td>1</td>\n",
              "    </tr>\n",
              "  </tbody>\n",
              "</table>\n",
              "</div>"
            ],
            "text/plain": [
              "   x1  x2\n",
              "0   0   0\n",
              "1   1   1\n",
              "2   0   0\n",
              "3   1   1\n",
              "4   1   1"
            ]
          },
          "metadata": {
            "tags": []
          },
          "execution_count": 3
        }
      ]
    },
    {
      "cell_type": "code",
      "metadata": {
        "id": "YvCfB7uRZvZI",
        "colab": {
          "base_uri": "https://localhost:8080/"
        },
        "outputId": "9833c989-347c-49e4-b282-5db3c9492532"
      },
      "source": [
        "# 各カウント\n",
        "print(((df[\"x1\"] == 0) & (df[\"x2\"] == 0)).sum())\n",
        "print(((df[\"x1\"] == 1) & (df[\"x2\"] == 0)).sum())\n",
        "print(((df[\"x1\"] == 0) & (df[\"x2\"] == 1)).sum())\n",
        "print(((df[\"x1\"] == 1) & (df[\"x2\"] == 1)).sum())\n"
      ],
      "execution_count": null,
      "outputs": [
        {
          "output_type": "stream",
          "text": [
            "58\n",
            "9\n",
            "0\n",
            "33\n"
          ],
          "name": "stdout"
        }
      ]
    },
    {
      "cell_type": "markdown",
      "metadata": {
        "id": "BHcdUlW9koTa"
      },
      "source": [
        "## pgmpy（Python library for Probabilistic Graphical Models）による独立性の検定\n"
      ]
    },
    {
      "cell_type": "code",
      "metadata": {
        "id": "25oDRf7qtNtF",
        "colab": {
          "base_uri": "https://localhost:8080/"
        },
        "outputId": "f6dd7c93-b721-484e-bddd-116329c11dc4"
      },
      "source": [
        "!pip install pgmpy==0.1.9"
      ],
      "execution_count": null,
      "outputs": [
        {
          "output_type": "stream",
          "text": [
            "Collecting pgmpy==0.1.9\n",
            "\u001b[?25l  Downloading https://files.pythonhosted.org/packages/5a/b1/18dfdfcb10dcce71fd39f8c6801407e9aebd953939682558a5317e4a021c/pgmpy-0.1.9-py3-none-any.whl (331kB)\n",
            "\r\u001b[K     |█                               | 10kB 13.2MB/s eta 0:00:01\r\u001b[K     |██                              | 20kB 18.6MB/s eta 0:00:01\r\u001b[K     |███                             | 30kB 12.7MB/s eta 0:00:01\r\u001b[K     |████                            | 40kB 10.3MB/s eta 0:00:01\r\u001b[K     |█████                           | 51kB 8.2MB/s eta 0:00:01\r\u001b[K     |██████                          | 61kB 7.2MB/s eta 0:00:01\r\u001b[K     |███████                         | 71kB 8.1MB/s eta 0:00:01\r\u001b[K     |████████                        | 81kB 9.0MB/s eta 0:00:01\r\u001b[K     |█████████                       | 92kB 8.5MB/s eta 0:00:01\r\u001b[K     |█████████▉                      | 102kB 8.8MB/s eta 0:00:01\r\u001b[K     |██████████▉                     | 112kB 8.8MB/s eta 0:00:01\r\u001b[K     |███████████▉                    | 122kB 8.8MB/s eta 0:00:01\r\u001b[K     |████████████▉                   | 133kB 8.8MB/s eta 0:00:01\r\u001b[K     |█████████████▉                  | 143kB 8.8MB/s eta 0:00:01\r\u001b[K     |██████████████▉                 | 153kB 8.8MB/s eta 0:00:01\r\u001b[K     |███████████████▉                | 163kB 8.8MB/s eta 0:00:01\r\u001b[K     |████████████████▉               | 174kB 8.8MB/s eta 0:00:01\r\u001b[K     |█████████████████▉              | 184kB 8.8MB/s eta 0:00:01\r\u001b[K     |██████████████████▊             | 194kB 8.8MB/s eta 0:00:01\r\u001b[K     |███████████████████▊            | 204kB 8.8MB/s eta 0:00:01\r\u001b[K     |████████████████████▊           | 215kB 8.8MB/s eta 0:00:01\r\u001b[K     |█████████████████████▊          | 225kB 8.8MB/s eta 0:00:01\r\u001b[K     |██████████████████████▊         | 235kB 8.8MB/s eta 0:00:01\r\u001b[K     |███████████████████████▊        | 245kB 8.8MB/s eta 0:00:01\r\u001b[K     |████████████████████████▊       | 256kB 8.8MB/s eta 0:00:01\r\u001b[K     |█████████████████████████▊      | 266kB 8.8MB/s eta 0:00:01\r\u001b[K     |██████████████████████████▊     | 276kB 8.8MB/s eta 0:00:01\r\u001b[K     |███████████████████████████▋    | 286kB 8.8MB/s eta 0:00:01\r\u001b[K     |████████████████████████████▋   | 296kB 8.8MB/s eta 0:00:01\r\u001b[K     |█████████████████████████████▋  | 307kB 8.8MB/s eta 0:00:01\r\u001b[K     |██████████████████████████████▋ | 317kB 8.8MB/s eta 0:00:01\r\u001b[K     |███████████████████████████████▋| 327kB 8.8MB/s eta 0:00:01\r\u001b[K     |████████████████████████████████| 337kB 8.8MB/s \n",
            "\u001b[?25hInstalling collected packages: pgmpy\n",
            "Successfully installed pgmpy-0.1.9\n"
          ],
          "name": "stdout"
        }
      ]
    },
    {
      "cell_type": "code",
      "metadata": {
        "id": "K8rFdErsnUhd",
        "colab": {
          "base_uri": "https://localhost:8080/"
        },
        "outputId": "1157769f-372d-4349-e5f7-7977ac832414"
      },
      "source": [
        "# データ数\n",
        "num_data = 100\n",
        "\n",
        "# x1：0か1の値をnum_data個生成、0の確率は0.6、1の確率は0.4\n",
        "x1 = np.random.choice([0, 1], num_data, p=[0.6, 0.4])\n",
        "\n",
        "# x2：0か1の値をnum_data個生成、0の確率は0.4、1の確率は0.6\n",
        "x2 = np.random.choice([0, 1], num_data, p=[0.4, 0.6])\n",
        "\n",
        "# 2変数で表にする\n",
        "df2 = pd.DataFrame({'x1': x1,\n",
        "                   'x2': x2,\n",
        "                   })\n",
        "\n",
        "# 各カウント\n",
        "print(((df2[\"x1\"] == 0) & (df2[\"x2\"] == 0)).sum())\n",
        "print(((df2[\"x1\"] == 1) & (df2[\"x2\"] == 0)).sum())\n",
        "print(((df2[\"x1\"] == 0) & (df2[\"x2\"] == 1)).sum())\n",
        "print(((df2[\"x1\"] == 1) & (df2[\"x2\"] == 1)).sum())\n"
      ],
      "execution_count": null,
      "outputs": [
        {
          "output_type": "stream",
          "text": [
            "20\n",
            "15\n",
            "35\n",
            "30\n"
          ],
          "name": "stdout"
        }
      ]
    },
    {
      "cell_type": "code",
      "metadata": {
        "id": "nJJBRMKEnbjO",
        "colab": {
          "base_uri": "https://localhost:8080/"
        },
        "outputId": "98943997-565d-4832-ea45-3f9ef0444b1c"
      },
      "source": [
        "from pgmpy.estimators import ConstraintBasedEstimator\n",
        "\n",
        "est = ConstraintBasedEstimator(df2)\n",
        "print(est.test_conditional_independence(\n",
        "    'x1', 'x2', method=\"chi_square\", tol=0.05))  # 独立\n",
        "\n",
        "# 最初の例の場合\n",
        "est = ConstraintBasedEstimator(df)\n",
        "print(est.test_conditional_independence(\n",
        "    'x1', 'x2', method=\"chi_square\", tol=0.05))   # 独立でない\n"
      ],
      "execution_count": null,
      "outputs": [
        {
          "output_type": "stream",
          "text": [
            "/usr/local/lib/python3.7/dist-packages/statsmodels/tools/_testing.py:19: FutureWarning: pandas.util.testing is deprecated. Use the functions in the public API at pandas.testing instead.\n",
            "  import pandas.util.testing as tm\n"
          ],
          "name": "stderr"
        },
        {
          "output_type": "stream",
          "text": [
            "True\n",
            "False\n"
          ],
          "name": "stdout"
        }
      ]
    },
    {
      "cell_type": "markdown",
      "metadata": {
        "id": "I6P1x9vAdG3i"
      },
      "source": [
        "以上"
      ]
    }
  ]
}